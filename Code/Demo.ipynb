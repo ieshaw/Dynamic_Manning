{
 "cells": [
  {
   "cell_type": "code",
   "execution_count": 29,
   "metadata": {},
   "outputs": [],
   "source": [
    "import pandas as pd\n",
    "import pref_metrics as pm"
   ]
  },
  {
   "cell_type": "code",
   "execution_count": 30,
   "metadata": {},
   "outputs": [],
   "source": [
    "seeker_df = pd.read_csv('Data/seeker_prefs.csv', header=0, index_col=0)\n",
    "seeker_df.index = seeker_df.index.map(str)\n",
    "owner_df = pd.read_csv('Data/owner_prefs.csv', header=0, index_col=0)\n",
    "owner_df.index = owner_df.index.map(str)\n",
    "\n",
    "o_metric_df, s_sim_df = pm.pref_metrics(seeker_df)\n",
    "s_metric_df, o_sim_df = pm.pref_metrics(seeker_df)\n",
    "\n",
    "#Correlation of Owner's Views of Seekers and Seeker Views of themselves\n",
    "s_corr_df = pm.correlation(seeker_df,owner_df)\n",
    "#Correlation of Seeker's Views of Owners and Owners Views of themselves\n",
    "o_corr_df = pm.correlation(owner_df,seeker_df)"
   ]
  }
 ],
 "metadata": {
  "kernelspec": {
   "display_name": "Python 3",
   "language": "python",
   "name": "python3"
  },
  "language_info": {
   "codemirror_mode": {
    "name": "ipython",
    "version": 3
   },
   "file_extension": ".py",
   "mimetype": "text/x-python",
   "name": "python",
   "nbconvert_exporter": "python",
   "pygments_lexer": "ipython3",
   "version": "3.5.2"
  }
 },
 "nbformat": 4,
 "nbformat_minor": 2
}
