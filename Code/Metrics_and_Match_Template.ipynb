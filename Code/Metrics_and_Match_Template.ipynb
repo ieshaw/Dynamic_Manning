{
 "cells": [
  {
   "cell_type": "raw",
   "metadata": {},
   "source": [
    "<script>\n",
    "  function code_toggle() {\n",
    "    if (code_shown){\n",
    "      $('div.input').hide('500');\n",
    "      $('#toggleButton').val('Show Code')\n",
    "    } else {\n",
    "      $('div.input').show('500');\n",
    "      $('#toggleButton').val('Hide Code')\n",
    "    }\n",
    "    code_shown = !code_shown\n",
    "  }\n",
    "\n",
    "  $( document ).ready(function(){\n",
    "    code_shown=false;\n",
    "    $('div.input').hide()\n",
    "  });\n",
    "</script>\n",
    "<form action=\"javascript:code_toggle()\"><input type=\"submit\" id=\"toggleButton\" value=\"Show Code\"></form>"
   ]
  },
  {
   "cell_type": "markdown",
   "metadata": {},
   "source": [
    "# Dynamic Manning Report - Doctor Data\n",
    "\n",
    "VADM Burke, Chief of Naval Personnel, ordered LTJGs Dannelly, Calcagno, Shaw, and Kuzma to build a prototype of a job-seeker / job-owner matching algorithm in one month to aid personnel detailing. This report offers an overview of the team’s results utilizing medical corps data provided by CDR Gingo. "
   ]
  },
  {
   "cell_type": "code",
   "execution_count": 87,
   "metadata": {
    "scrolled": false
   },
   "outputs": [],
   "source": [
    "#Data Ingestion\n",
    "#Import Libraries\n",
    "import pandas as pd\n",
    "import pref_metrics as pm\n",
    "\n",
    "#Path to files\n",
    "file_path_data = '/Users/z/Documents/Data_Cleaning/med_data/clean/'\n",
    "file_path_results = '/Users/z/Documents/Data_Cleaning/med_data/results/'\n",
    "\n",
    "#Raw Data\n",
    "s_df = pd.read_csv(file_path_data + \"S.csv\", index_col=0)\n",
    "o_df = pd.read_csv(file_path_data + \"O.csv\", index_col=0)\n",
    "a_df = pd.read_csv(file_path_data + \"A.csv\", index_col=0)\n",
    "x_tn_df = pd.read_csv(file_path_data + \"X.csv\", index_col=0)\n",
    "\n",
    "\n",
    "#Match Dataframes\n",
    "x_MIP_df = pd.read_csv(file_path_results + \"X_mip.csv\", index_col=0)\n",
    "x_da_s_df = pd.read_csv(file_path_results + \"X_da_s.csv\", index_col=0)\n",
    "x_da_o_df = pd.read_csv(file_path_results + \"X_da_o.csv\", index_col=0)\n",
    "\n",
    "#Similarity Dataframes\n",
    "sim_s_df = pd.read_csv(file_path_results + \"Similarity_s.csv\", index_col=0)\n",
    "sim_o_df = pd.read_csv(file_path_results + \"Similarity_o.csv\", index_col=0)\n",
    "\n",
    "#Post Match Stats\n",
    "post_stat_df = pd.read_csv(file_path_results + \"post_match.csv\",index_col=0)\n",
    "\n",
    "\n",
    "#Metrics Dataframes\n",
    "metrics_s_df = pd.read_csv(file_path_results + \"Metrics_s.csv\", index_col=0)\n",
    "metrics_o_df = pd.read_csv(file_path_results + \"Metrics_o.csv\", index_col=0)\n",
    "\n",
    "#Correlation Dataframes\n",
    "corr_s_df = pd.read_csv(file_path_results + \"Corr_s.csv\", index_col=0)\n",
    "corr_o_df = pd.read_csv(file_path_results + \"Corr_o.csv\", index_col=0)\n",
    "\n",
    "#Air Force Status Quo Metrics\n",
    "af_metrics = pd.DataFrame([.21, .42, .55], index=[\"Assigned 1st Pref\", \"Assigned Top 5 Pref\", \"Assigned Top 10 Pref\"])\n",
    "\n",
    "#Add in totals\n",
    "total_1 = (post_stat_df.T[\"1_o_count\"] + post_stat_df.T[\"1_s_count\"])\n",
    "total_5 = (post_stat_df.T[\"5_o_count\"] + post_stat_df.T[\"5_s_count\"]).rename(\"Ratio 5\")\n",
    "total_10 = (post_stat_df.T[\"10_o_count\"] + post_stat_df.T[\"10_s_count\"]).rename(\"Ratio 10\")\n",
    "total_participants = post_stat_df.T[\"o_participants\"] + post_stat_df.T[\"s_participants\"]\n",
    "\n",
    "ratio_1 = (total_1 / total_participants).rename(\"Total 1 Ratio\")\n",
    "ratio_5 = (total_5 / total_participants).rename(\"Total 5 Ratio\")\n",
    "ratio_10 = (total_10 / total_participants).rename(\"Total 10 Ratio\")\n",
    "\n",
    "\n",
    "post_stat_df = post_stat_df.append([ratio_1,ratio_5,ratio_10])"
   ]
  },
  {
   "cell_type": "code",
   "execution_count": 91,
   "metadata": {},
   "outputs": [
    {
     "name": "stdout",
     "output_type": "stream",
     "text": [
      "High five! You successfully sent some data to your account on plotly. View your plot in your browser at https://plot.ly/~dannellyz/0 or inside your plot.ly account where it is named 'pandas-bar-chart-layout'\n"
     ]
    },
    {
     "data": {
      "text/html": [
       "<iframe id=\"igraph\" scrolling=\"no\" style=\"border:none;\" seamless=\"seamless\" src=\"https://plot.ly/~dannellyz/0.embed\" height=\"525px\" width=\"100%\"></iframe>"
      ],
      "text/plain": [
       "<plotly.tools.PlotlyDisplay object>"
      ]
     },
     "execution_count": 91,
     "metadata": {},
     "output_type": "execute_result"
    }
   ],
   "source": [
    "import plotly.plotly as py\n",
    "import plotly.graph_objs as go\n",
    "\n",
    "plot_metrics = post_stat_df.iloc[[47, 48, 49], :]\n",
    "\n",
    "plot_metrics.index = [\"Assigned 1st Pref\", \"Assigned Top 5 Pref\", \"Assigned Top 10 Pref\"]\n",
    "\n",
    "data = [\n",
    "    go.Bar(\n",
    "        x=af_metrics.index, # assign x as the dataframe column 'x'\n",
    "        y=af_metrics[0],\n",
    "        name = \"Detailing Standard\"\n",
    "    ),\n",
    "    go.Bar(\n",
    "        x=plot_metrics.index, # assign x as the dataframe column 'x'\n",
    "        y=plot_metrics[\"da_s\"],\n",
    "        name = \"Differed Acceptance\"\n",
    "    ),\n",
    "    go.Bar(\n",
    "        x=plot_metrics.index, # assign x as the dataframe column 'x'\n",
    "        y=plot_metrics[\"mip\"],\n",
    "        name = \"Mixed Integer Algo\"\n",
    "    )\n",
    "]\n",
    "\n",
    "layout = go.Layout(\n",
    "    barmode='group',\n",
    "    title='Overall Preference Allocation',\n",
    "    yaxis=dict(\n",
    "        tickformat='%d'\n",
    "    )\n",
    ")\n",
    "\n",
    "fig = go.Figure(data=data, layout=layout)\n",
    "\n",
    "# IPython notebook\n",
    "py.iplot(fig, filename='pandas-bar-chart-layout')"
   ]
  },
  {
   "cell_type": "code",
   "execution_count": 93,
   "metadata": {},
   "outputs": [
    {
     "data": {
      "text/html": [
       "<iframe id=\"igraph\" scrolling=\"no\" style=\"border:none;\" seamless=\"seamless\" src=\"https://plot.ly/~dannellyz/21.embed\" height=\"525px\" width=\"100%\"></iframe>"
      ],
      "text/plain": [
       "<plotly.tools.PlotlyDisplay object>"
      ]
     },
     "execution_count": 93,
     "metadata": {},
     "output_type": "execute_result"
    }
   ],
   "source": [
    "metrics_s_df = (metrics_s_df-metrics_s_df.min())/(metrics_s_df.max()-metrics_s_df.min())\n",
    "fig = {\n",
    "    'data': [\n",
    "      {\n",
    "      'x': metrics_s_df.Specialization, \n",
    "            'y': metrics_s_df.Competitiveness, \n",
    "            'text': metrics_s_df.index, \n",
    "            'mode': 'markers', \n",
    "            'name': 'Sailors'}\n",
    "    ],\n",
    "    'layout': {\n",
    "        'xaxis': {'title': 'Spec', 'type': 'log'},\n",
    "        'yaxis': {'title': \"Comp\"}\n",
    "    }\n",
    "}\n",
    "\n",
    "# IPython notebook\n",
    "py.iplot(fig, filename='out')"
   ]
  },
  {
   "cell_type": "code",
   "execution_count": 217,
   "metadata": {},
   "outputs": [
    {
     "data": {
      "text/html": [
       "<iframe id=\"igraph\" scrolling=\"no\" style=\"border:none;\" seamless=\"seamless\" src=\"https://plot.ly/~dannellyz/21.embed\" height=\"525px\" width=\"100%\"></iframe>"
      ],
      "text/plain": [
       "<plotly.tools.PlotlyDisplay object>"
      ]
     },
     "execution_count": 217,
     "metadata": {},
     "output_type": "execute_result"
    }
   ],
   "source": [
    "import plotly.plotly as py\n",
    "import plotly.graph_objs as go\n",
    "\n",
    "fig = {\n",
    "  \"data\": [\n",
    "    {\n",
    "      \"values\": [16, 15, 12],\n",
    "      \"labels\": [\n",
    "        \"first\",\n",
    "        \"top5\",\n",
    "        \"rest\"\n",
    "      ],\n",
    "      'domain': {'x': [0, .5], 'y': [.52, 1]},\n",
    "      \"name\": \"1\",\n",
    "      \"hoverinfo\":\"label+percent+name\",\n",
    "      \"hole\": .4,\n",
    "      \"type\": \"pie\"\n",
    "    }],\n",
    "  \"layout\": {\n",
    "        \"title\":\"Global Emissions 1990-2011\",\n",
    "        \"annotations\": [\n",
    "            {\n",
    "                \"font\": {\n",
    "                    \"size\": 20\n",
    "                },\n",
    "                \"showarrow\": False,\n",
    "                \"text\": \"DA-O\",\n",
    "                \"x\": 0.22,\n",
    "                \"y\": 0.20\n",
    "            }\n",
    "        ]\n",
    "    }\n",
    "}\n",
    "py.iplot(fig, filename='donut')"
   ]
  },
  {
   "cell_type": "code",
   "execution_count": 284,
   "metadata": {},
   "outputs": [
    {
     "data": {
      "text/plain": [
       "{'command_A': 0.39634146341463183,\n",
       " 'command_B': 0.17682926829268408,\n",
       " 'command_C': 0.737804878048775,\n",
       " 'command_D': 0.7926829268292704,\n",
       " 'command_E': 2.0426829268292703,\n",
       " 'command_F': 0.7926829268292704,\n",
       " 'command_G': 0.7926829268292704,\n",
       " 'command_H': 3.3292682926829316,\n",
       " 'command_I': 0.4817073170731727,\n",
       " 'command_J': 0.7134146341463387,\n",
       " 'command_K': 1.0792682926829318,\n",
       " 'command_L': 1.347560975609759,\n",
       " 'command_M': 0.9390243902438955,\n",
       " 'command_N': 1.0121951219512115,\n",
       " 'command_O': 1.817073170731707,\n",
       " 'command_P': 0.6951219512195114,\n",
       " 'command_Q': 1.5365853658536546,\n",
       " 'command_R': 0.7317073170731727,\n",
       " 'command_S': 0.8963414634146318,\n",
       " 'command_T': 1.6768292682926773}"
      ]
     },
     "execution_count": 284,
     "metadata": {},
     "output_type": "execute_result"
    }
   ],
   "source": [
    "O_comp = {}\n",
    "for key, value in match_dict.items():\n",
    "    total_comp = 0\n",
    "    for item in value:\n",
    "        total_comp += metrics_s_df.at[item,\"Competitiveness\"]\n",
    "    O_comp[key] = total_comp\n",
    "O_comp"
   ]
  },
  {
   "cell_type": "code",
   "execution_count": 290,
   "metadata": {
    "scrolled": true
   },
   "outputs": [
    {
     "data": {
      "text/html": [
       "<iframe id=\"igraph\" scrolling=\"no\" style=\"border:none;\" seamless=\"seamless\" src=\"https://plot.ly/~dannellyz/23.embed\" height=\"525px\" width=\"100%\"></iframe>"
      ],
      "text/plain": [
       "<plotly.tools.PlotlyDisplay object>"
      ]
     },
     "execution_count": 290,
     "metadata": {},
     "output_type": "execute_result"
    }
   ],
   "source": [
    "import plotly.plotly as py\n",
    "import plotly.graph_objs as go\n",
    "\n",
    "fig = {\n",
    "  \"data\": [\n",
    "    {\n",
    "      \"values\": list(O_comp.values()),\n",
    "      \"labels\": list(O_comp.keys()),\n",
    "      \"name\": \"1\",\n",
    "      \"hoverinfo\":\"label+percent+name\",\n",
    "      \"type\": \"pie\"\n",
    "    }],\n",
    "  \"layout\": {\n",
    "        \"title\":\"Talent Allocation: Cumulative Competitiveness \"\n",
    "    }\n",
    "}\n",
    "py.iplot(fig, filename='donut')"
   ]
  },
  {
   "cell_type": "code",
   "execution_count": 97,
   "metadata": {},
   "outputs": [
    {
     "data": {
      "application/vnd.jupyter.widget-view+json": {
       "model_id": "1115821825d6499f9dd3de4c8351b814",
       "version_major": 2,
       "version_minor": 0
      },
      "text/html": [
       "<p>Failed to display Jupyter Widget of type <code>QgridWidget</code>.</p>\n",
       "<p>\n",
       "  If you're reading this message in the Jupyter Notebook or JupyterLab Notebook, it may mean\n",
       "  that the widgets JavaScript is still loading. If this message persists, it\n",
       "  likely means that the widgets JavaScript library is either not installed or\n",
       "  not enabled. See the <a href=\"https://ipywidgets.readthedocs.io/en/stable/user_install.html\">Jupyter\n",
       "  Widgets Documentation</a> for setup instructions.\n",
       "</p>\n",
       "<p>\n",
       "  If you're reading this message in another frontend (for example, a static\n",
       "  rendering on GitHub or <a href=\"https://nbviewer.jupyter.org/\">NBViewer</a>),\n",
       "  it may mean that your frontend doesn't currently support widgets.\n",
       "</p>\n"
      ],
      "text/plain": [
       "QgridWidget(grid_options={'fullWidthRows': True, 'syncColumnCellResize': True, 'forceFitColumns': True, 'defaultColumnWidth': 150, 'rowHeight': 28, 'enableColumnReorder': False, 'enableTextSelectionOnCells': True, 'editable': True, 'autoEdit': False, 'explicitInitialization': True, 'maxVisibleRows': 15, 'minVisibleRows': 8, 'sortable': True, 'filterable': True, 'highlightSelectedCell': False, 'highlightSelectedRow': True, 'boldIndex': True}, id='4a4535a4-5891-4d1a-9821-7ad2c2f3899d', precision=5, show_toolbar=True)"
      ]
     },
     "metadata": {},
     "output_type": "display_data"
    }
   ],
   "source": [
    "import qgrid\n",
    "widget = qgrid.show_grid((x_MIP_df.T * s_df).T, show_toolbar=True)\n",
    "widget"
   ]
  },
  {
   "cell_type": "code",
   "execution_count": null,
   "metadata": {},
   "outputs": [],
   "source": []
  }
 ],
 "metadata": {
  "kernelspec": {
   "display_name": "Python 3",
   "language": "python",
   "name": "python3"
  },
  "language_info": {
   "codemirror_mode": {
    "name": "ipython",
    "version": 3
   },
   "file_extension": ".py",
   "mimetype": "text/x-python",
   "name": "python",
   "nbconvert_exporter": "python",
   "pygments_lexer": "ipython3",
   "version": "3.6.4"
  }
 },
 "nbformat": 4,
 "nbformat_minor": 2
}
